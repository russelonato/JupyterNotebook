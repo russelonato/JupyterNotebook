{
 "cells": [
  {
   "cell_type": "code",
   "execution_count": 107,
   "id": "192ea756",
   "metadata": {},
   "outputs": [],
   "source": [
    "import pandas as pd\n",
    "from sklearn.tree import DecisionTreeClassifier\n",
    "from sklearn.model_selection import train_test_split\n",
    "from sklearn.metrics import accuracy_score\n",
    "from sklearn.externals import joblib"
   ]
  },
  {
   "cell_type": "code",
   "execution_count": 108,
   "id": "060eef48",
   "metadata": {},
   "outputs": [],
   "source": [
    "music_data = pd.read_csv('music.csv')"
   ]
  },
  {
   "cell_type": "code",
   "execution_count": 109,
   "id": "f3a99ce3",
   "metadata": {},
   "outputs": [],
   "source": [
    "# Separate the input columns from the output\n",
    "\n",
    "X = music_data.drop(columns={'genre'})\n",
    "y = music_data['genre']"
   ]
  },
  {
   "cell_type": "code",
   "execution_count": 110,
   "id": "0aabaa99",
   "metadata": {},
   "outputs": [],
   "source": [
    "X_train, X_test, y_train, y_test = train_test_split(X, y, test_size=0.2)"
   ]
  },
  {
   "cell_type": "code",
   "execution_count": 111,
   "id": "f867ce24",
   "metadata": {},
   "outputs": [],
   "source": [
    "# Create a model\n",
    "\n",
    "model = DecisionTreeClassifier()\n",
    "model.fit(X_train, y_train)\n",
    "predictions = model.predict(X_test)"
   ]
  },
  {
   "cell_type": "code",
   "execution_count": 112,
   "id": "7272d8e6",
   "metadata": {},
   "outputs": [
    {
     "data": {
      "text/plain": [
       "1.0"
      ]
     },
     "execution_count": 112,
     "metadata": {},
     "output_type": "execute_result"
    }
   ],
   "source": [
    "# Evaluate data accuracy\n",
    "\n",
    "score = accuracy_score(y_test, predictions)\n",
    "score"
   ]
  },
  {
   "cell_type": "code",
   "execution_count": null,
   "id": "af4c9697",
   "metadata": {},
   "outputs": [],
   "source": [
    "joblib.dump(model, 'music-recommender.joblib')"
   ]
  }
 ],
 "metadata": {
  "kernelspec": {
   "display_name": "Python 3 (ipykernel)",
   "language": "python",
   "name": "python3"
  },
  "language_info": {
   "codemirror_mode": {
    "name": "ipython",
    "version": 3
   },
   "file_extension": ".py",
   "mimetype": "text/x-python",
   "name": "python",
   "nbconvert_exporter": "python",
   "pygments_lexer": "ipython3",
   "version": "3.11.5"
  }
 },
 "nbformat": 4,
 "nbformat_minor": 5
}
